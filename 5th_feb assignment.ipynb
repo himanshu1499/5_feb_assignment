{
 "cells": [
  {
   "cell_type": "code",
   "execution_count": 1,
   "id": "5d8ae263-6540-4973-a1ad-5b32ccb09e77",
   "metadata": {},
   "outputs": [],
   "source": [
    "# explain class and object with respect to oops.give a suitable example"
   ]
  },
  {
   "cell_type": "markdown",
   "id": "8c39ca1b-1456-401b-a965-99246e37d263",
   "metadata": {},
   "source": [
    "ans - A class is a user-defined blueprint or prototype from which objects are created. Classes provide a means of bundling data and functionality together. Creating a new class creates a new type of object, allowing new instances of that type to be made. Each class instance can have attributes attached to it for maintaining its state.\n",
    "Class instances can also have methods (defined by their class) for modifying their state."
   ]
  },
  {
   "cell_type": "code",
   "execution_count": 4,
   "id": "ce6d6375-3a76-4826-95cf-85d08fbc3a07",
   "metadata": {},
   "outputs": [],
   "source": [
    " class pwskills :\n",
    "    \n",
    "    def welcome_msg(self):\n",
    "        print(\"welcome to pwskills\")"
   ]
  },
  {
   "cell_type": "code",
   "execution_count": 6,
   "id": "d52931de-dcc2-447c-af11-39c90155cd5e",
   "metadata": {},
   "outputs": [],
   "source": [
    "rohan = pwskills()"
   ]
  },
  {
   "cell_type": "code",
   "execution_count": 7,
   "id": "8d63347e-d518-4408-8939-524c2e55beac",
   "metadata": {},
   "outputs": [
    {
     "name": "stdout",
     "output_type": "stream",
     "text": [
      "welcome to pwskills\n"
     ]
    }
   ],
   "source": [
    "rohan.welcome_msg()"
   ]
  },
  {
   "cell_type": "code",
   "execution_count": 8,
   "id": "ff4e666a-9373-4f07-89c2-31f6ea05218c",
   "metadata": {},
   "outputs": [],
   "source": [
    "# name the four pillars of oops"
   ]
  },
  {
   "cell_type": "code",
   "execution_count": null,
   "id": "76a2b3f5-1266-4031-a895-6eda30f065e3",
   "metadata": {},
   "outputs": [],
   "source": [
    "Abstraction\n",
    "Encapsulation\n",
    "Inheritance\n",
    "Polymorphism"
   ]
  },
  {
   "cell_type": "code",
   "execution_count": 9,
   "id": "630aac1c-b7fe-4515-9994-4fdf93e1fbfd",
   "metadata": {},
   "outputs": [],
   "source": [
    "# explain why the __init__() function is used.give suitable example"
   ]
  },
  {
   "cell_type": "markdown",
   "id": "3d330d1f-8028-4ec4-8dae-1576480ed703",
   "metadata": {},
   "source": [
    "All classes have a function called __init__ (), which is always executed when the class is being initiated.\n",
    "Use the __init__ () function to assign values to object properties, or other operations that are necessary to do when the object is being created"
   ]
  },
  {
   "cell_type": "code",
   "execution_count": 10,
   "id": "fbd0c946-e95b-480b-b390-c2dd27cc35fd",
   "metadata": {},
   "outputs": [],
   "source": [
    "class pwskills1 :\n",
    "    \n",
    "    def __init__(self ,phone_number,email_id,student_id):\n",
    "        self.phone_number = phone_number\n",
    "        self.email_id = email_id\n",
    "        self.student_id = student_id\n",
    "        \n",
    "    def return_student_deetails(self):\n",
    "            return self.student_id,self.phone_number,self.email_id\n",
    "        "
   ]
  },
  {
   "cell_type": "code",
   "execution_count": 11,
   "id": "2b765430-c488-4c89-b1a5-fed3f70faa63",
   "metadata": {},
   "outputs": [],
   "source": [
    "rohan = pwskills1(3445677899,\"rohan@gmail.com\",101)"
   ]
  },
  {
   "cell_type": "code",
   "execution_count": 12,
   "id": "a8a322dd-0481-4856-9c8f-efc50395fdf9",
   "metadata": {},
   "outputs": [
    {
     "data": {
      "text/plain": [
       "(101, 3445677899, 'rohan@gmail.com')"
      ]
     },
     "execution_count": 12,
     "metadata": {},
     "output_type": "execute_result"
    }
   ],
   "source": [
    "rohan.return_student_deetails()"
   ]
  },
  {
   "cell_type": "code",
   "execution_count": 13,
   "id": "c7c2b488-aee5-4506-a522-06c431a3ec90",
   "metadata": {},
   "outputs": [],
   "source": [
    "# why self is used in oops?"
   ]
  },
  {
   "cell_type": "markdown",
   "id": "b8816af6-a6a7-42fc-9e91-5ace2d116df4",
   "metadata": {},
   "source": [
    "The reason you need to use self. is because Python does not use the @ syntax to refer to instance attributes. Python decided to do methods in a way that makes the instance to which the method belongs be passed automatically,\n",
    "but not received automatically: the first parameter of methods is the instance the method is called on."
   ]
  },
  {
   "cell_type": "code",
   "execution_count": 14,
   "id": "f5cc54ed-3768-46d5-87b1-b7cc768745fb",
   "metadata": {},
   "outputs": [],
   "source": [
    "# what is inheritance? give an example for each type of inheritance"
   ]
  },
  {
   "cell_type": "markdown",
   "id": "41901c99-ae02-42fd-bf99-f214f66a1cbd",
   "metadata": {},
   "source": [
    "Inheritance is the ability of one class to inherit another class. Inheritance provides reusability of code and allows us to create complex and real-world-like relationships among objects."
   ]
  },
  {
   "cell_type": "code",
   "execution_count": 15,
   "id": "cebd3455-1174-467a-87ae-ff16dfe1563e",
   "metadata": {},
   "outputs": [],
   "source": [
    "# single inheritance"
   ]
  },
  {
   "cell_type": "code",
   "execution_count": 16,
   "id": "48879a16-469d-4e98-8365-48d7a4e6f90d",
   "metadata": {},
   "outputs": [
    {
     "name": "stdout",
     "output_type": "stream",
     "text": [
      "John is a Professor\n"
     ]
    }
   ],
   "source": [
    "class Person:\n",
    "    def __init__(self, name, age):\n",
    "        self.name = name\n",
    "        self.age = age\n",
    "class Professor(Person):\n",
    "    def isProfessor(self):\n",
    "        return f\"{self.name} is a Professor\"\n",
    "sir = Professor(\"John\", 30)\n",
    "print(sir.isProfessor())"
   ]
  },
  {
   "cell_type": "code",
   "execution_count": 17,
   "id": "0f79f55b-f642-444b-806d-eb1c46376560",
   "metadata": {},
   "outputs": [],
   "source": [
    "# multiple"
   ]
  },
  {
   "cell_type": "code",
   "execution_count": 18,
   "id": "373f1a1a-fb5c-40e4-a0b9-14c3fd1936d4",
   "metadata": {},
   "outputs": [
    {
     "name": "stdout",
     "output_type": "stream",
     "text": [
      "8\n"
     ]
    }
   ],
   "source": [
    "class SuperClass1:\n",
    "    num1 = 3\n",
    "class SuperClass2:\n",
    "    num2 = 5\n",
    "class SubClass( SuperClass1, SuperClass2):\n",
    "    def addition(self):\n",
    "        return self.num1 + self.num2\n",
    "obj = SubClass()\n",
    "print(obj.addition())"
   ]
  },
  {
   "cell_type": "code",
   "execution_count": 19,
   "id": "0d889172-023e-49d5-8ea9-a2fdfe18a3b1",
   "metadata": {},
   "outputs": [],
   "source": [
    "#hierarchical inheritance"
   ]
  },
  {
   "cell_type": "code",
   "execution_count": 20,
   "id": "c91bb255-bf02-41d0-8090-5b2012d62212",
   "metadata": {},
   "outputs": [
    {
     "name": "stdout",
     "output_type": "stream",
     "text": [
      "3 3 3\n"
     ]
    }
   ],
   "source": [
    "class SuperClass:\n",
    "    x = 3\n",
    "class SubClass1(SuperClass):\n",
    "    pass\n",
    "class SubClass2(SuperClass):\n",
    "    pass\n",
    "class SubClass3(SuperClass):\n",
    "    pass\n",
    "a = SubClass1()\n",
    "b = SubClass2()\n",
    "c = SubClass3()\n",
    "print(a.x, b.x, c.x)"
   ]
  },
  {
   "cell_type": "code",
   "execution_count": 21,
   "id": "bea49ebb-6a7c-4e31-965a-e19e3d4da869",
   "metadata": {},
   "outputs": [],
   "source": [
    "# hybrid"
   ]
  },
  {
   "cell_type": "code",
   "execution_count": 22,
   "id": "7cfe0f38-f43c-4437-ad2e-335436673fb4",
   "metadata": {},
   "outputs": [
    {
     "name": "stdout",
     "output_type": "stream",
     "text": [
      "10\n"
     ]
    }
   ],
   "source": [
    "class X:\n",
    "    num = 10\n",
    "class A(X):\n",
    "    pass\n",
    "class B(A):\n",
    "    pass\n",
    "class C(A):\n",
    "    pass\n",
    "class D(B, C):\n",
    "    pass\n",
    "ob = D()\n",
    "print(D.num)"
   ]
  },
  {
   "cell_type": "code",
   "execution_count": null,
   "id": "98e37890-32b6-45a6-9913-aa3f1e8f2ca3",
   "metadata": {},
   "outputs": [],
   "source": []
  }
 ],
 "metadata": {
  "kernelspec": {
   "display_name": "Python 3 (ipykernel)",
   "language": "python",
   "name": "python3"
  },
  "language_info": {
   "codemirror_mode": {
    "name": "ipython",
    "version": 3
   },
   "file_extension": ".py",
   "mimetype": "text/x-python",
   "name": "python",
   "nbconvert_exporter": "python",
   "pygments_lexer": "ipython3",
   "version": "3.10.8"
  }
 },
 "nbformat": 4,
 "nbformat_minor": 5
}
